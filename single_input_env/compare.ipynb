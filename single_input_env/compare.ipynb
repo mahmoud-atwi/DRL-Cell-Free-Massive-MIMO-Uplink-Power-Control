{
 "cells": [
  {
   "cell_type": "code",
   "execution_count": 1,
   "id": "initial_id",
   "metadata": {
    "collapsed": true,
    "ExecuteTime": {
     "end_time": "2023-12-17T13:34:16.457156Z",
     "start_time": "2023-12-17T13:34:14.994058Z"
    }
   },
   "outputs": [],
   "source": [
    "import time\n",
    "\n",
    "import matplotlib.pyplot as plt\n",
    "import numpy as np\n",
    "import torch\n",
    "from stable_baselines3 import SAC\n",
    "\n",
    "from gpu_acc_se import compute_se_np\n",
    "from multi_input_env.env import CFmMIMOEnv as CFmMIMOEnv_Multi\n",
    "from power_optimization import power_opt_maxmin, power_opt_prod_sinr, power_opt_sum_rate\n",
    "from simulation_para import L, K, tau_p, min_power, max_power, initial_power, square_length, decorr, sigma_sf, \\\n",
    "    noise_variance_dbm, delta\n",
    "from single_input_env.env import CFmMIMOEnv as CFmMIMOEnv_Single\n",
    "\n",
    "device = torch.device(\"cuda\" if torch.cuda.is_available() else \"cpu\")"
   ]
  },
  {
   "cell_type": "code",
   "execution_count": 2,
   "outputs": [],
   "source": [
    "AP_locations = torch.rand(L, dtype=torch.complex64, device=device) * square_length\n",
    "UE_initial_locations = torch.rand(K, dtype=torch.complex64, device=device) * square_length"
   ],
   "metadata": {
    "collapsed": false,
    "ExecuteTime": {
     "end_time": "2023-12-17T13:34:16.462955Z",
     "start_time": "2023-12-17T13:34:16.458329Z"
    }
   },
   "id": "ce7b7151fb10de43"
  },
  {
   "cell_type": "code",
   "execution_count": 3,
   "outputs": [],
   "source": [
    "SI_ENV = CFmMIMOEnv_Single(L=L, K=K, tau_p=tau_p, initial_power=initial_power, min_power=min_power, max_power=max_power,\n",
    "                           APs_positions=AP_locations, UEs_positions=UE_initial_locations, square_length=square_length,\n",
    "                           decorr=decorr, sigma_sf=sigma_sf, noise_variance_dbm=noise_variance_dbm, delta=delta)\n",
    "\n",
    "MI_EV = CFmMIMOEnv_Multi(L=L, K=K, tau_p=tau_p, initial_power=initial_power, min_power=min_power, max_power=max_power,\n",
    "                         APs_positions=AP_locations, UEs_positions=UE_initial_locations, square_length=square_length,\n",
    "                         decorr=decorr, sigma_sf=sigma_sf, noise_variance_dbm=noise_variance_dbm, delta=delta)\n"
   ],
   "metadata": {
    "collapsed": false,
    "ExecuteTime": {
     "end_time": "2023-12-17T13:34:17.256316Z",
     "start_time": "2023-12-17T13:34:16.462841Z"
    }
   },
   "id": "60ba898ff8fcc9bf"
  },
  {
   "cell_type": "code",
   "execution_count": 4,
   "outputs": [],
   "source": [
    "num_of_setups = 100\n",
    "prelog_factor = 1"
   ],
   "metadata": {
    "collapsed": false,
    "ExecuteTime": {
     "end_time": "2023-12-17T13:34:17.260108Z",
     "start_time": "2023-12-17T13:34:17.256860Z"
    }
   },
   "id": "7411b59a2fb4d11a"
  },
  {
   "cell_type": "code",
   "execution_count": 5,
   "outputs": [],
   "source": [
    "SAC_CFmMIMO_SGD_SI = SAC.load(\"SAC_CFmMIMO_SGD\")\n",
    "SAC_CFmMIMO_Adam_SI = SAC.load(\"SAC_CFmMIMO_Adam\")\n",
    "SAC_CFmMIMO_SGD_MI = SAC.load(\"SAC_CFmMIMO_SGD(2x256)\")"
   ],
   "metadata": {
    "collapsed": false,
    "ExecuteTime": {
     "end_time": "2023-12-17T13:34:17.467257Z",
     "start_time": "2023-12-17T13:34:17.261416Z"
    }
   },
   "id": "88b60f93ad42b4de"
  },
  {
   "cell_type": "code",
   "execution_count": null,
   "outputs": [],
   "source": [
    "cf_signal = np.zeros((K, num_of_setups))\n",
    "cf_interference = np.zeros((K, K, num_of_setups))\n",
    "cf_pred_power = np.zeros((K, num_of_setups))\n",
    "\n",
    "cf_SE_SGD = np.zeros((K, num_of_setups))\n",
    "cf_SE_Adam = np.zeros((K, num_of_setups))\n",
    "cf_SE_SGD_256 = np.zeros((K, num_of_setups))\n",
    "\n",
    "SE_maxmin_cell = np.zeros((K, num_of_setups))\n",
    "SE_maxprod_cell = np.zeros((K, num_of_setups))\n",
    "SE_sumrate_cell = np.zeros((K, num_of_setups))\n",
    "\n",
    "over_all_time = time.time()\n",
    "for n in range(num_of_setups):\n",
    "    \n",
    "    obs_SI_ENV, sig_int = SI_ENV.reset()\n",
    "    # obs_MI_EV, _ = MI_EV.reset()\n",
    "\n",
    "    init_signal = sig_int['init_signal']\n",
    "    init_interference = sig_int['init_interference']\n",
    "    action, _ = SAC_CFmMIMO_SGD_SI.predict(obs_SI_ENV, deterministic=True)\n",
    "    _, _, _, _, info = SI_ENV.step(action)\n",
    "    cf_SE_SGD[:, n] = compute_se_np(init_signal, init_interference, info['predicted_power'], prelog_factor)\n",
    "\n",
    "    action, _ = SAC_CFmMIMO_Adam_SI.predict(obs_SI_ENV, deterministic=True)\n",
    "    _, _, _, _, info = SI_ENV.step(action)\n",
    "    cf_SE_Adam[:, n] = compute_se_np(init_signal, init_interference, info['predicted_power'], prelog_factor)\n",
    "    \n",
    "    SE_maxmin, _ = power_opt_maxmin(init_signal, init_interference, max_power, 1, return_SE=True)\n",
    "    SE_maxmin_cell[:, n] = SE_maxmin\n",
    "\n",
    "    SE_maxprod, _ = power_opt_prod_sinr(init_signal, init_interference, max_power, 1, return_SE=True)\n",
    "    SE_maxprod_cell[:, n] = SE_maxprod\n",
    "\n",
    "    SE_sumrate, _ = power_opt_sum_rate(init_signal, init_interference, max_power, 1, return_SE=True)\n",
    "    SE_sumrate_cell[:, n] = SE_sumrate\n",
    "    \n",
    "    # action, _ = SAC_CFmMIMO_SGD_MI.predict(obs_MI_EV, deterministic=True)\n",
    "    # _, _, _, _, info = MI_EV.step(action)\n",
    "    # cf_SE_SGD_256[:, n] = compute_se_np(info['signal'], info['interference'], info['predicted_power'], prelog_factor)\n",
    "\n",
    "print('Total inference: ', time.time() - over_all_time)"
   ],
   "metadata": {
    "collapsed": false,
    "is_executing": true,
    "ExecuteTime": {
     "start_time": "2023-12-17T13:34:17.469951Z"
    }
   },
   "id": "a854e040a4a6a992"
  },
  {
   "cell_type": "code",
   "execution_count": null,
   "outputs": [],
   "source": [
    "cf_SE_SGD_flatter = cf_SE_SGD.flatten()\n",
    "sorted_cf_SE_SGD = np.sort(cf_SE_SGD_flatter)\n",
    "cdf_SE_SGD_pred = np.linspace(0, 1, len(sorted_cf_SE_SGD))\n",
    "\n",
    "cf_SE_Adam_flatter = cf_SE_Adam.flatten()\n",
    "sorted_cf_SE_Adam = np.sort(cf_SE_Adam_flatter)\n",
    "cdf_SE_Adam_pred = np.linspace(0, 1, len(sorted_cf_SE_Adam))\n",
    "\n",
    "# cf_SE_SGD_256_flatter = cf_SE_SGD_256.flatten()\n",
    "# sorted_cf_SE_SGD_256 = np.sort(cf_SE_SGD_256_flatter)\n",
    "# cdf_SE_SGD_256_pred = np.linspace(0, 1, len(sorted_cf_SE_SGD_256))"
   ],
   "metadata": {
    "collapsed": false,
    "is_executing": true
   },
   "id": "ece611f7c022b362"
  },
  {
   "cell_type": "code",
   "execution_count": null,
   "outputs": [],
   "source": [
    "SE_maxmin_flatten = SE_maxmin_cell.flatten()\n",
    "SE_maxprod_flatten = SE_maxprod_cell.flatten()\n",
    "SE_sumrate_flatten = SE_sumrate_cell.flatten()\n",
    "\n",
    "sorted_SE_maxmin = np.sort(SE_maxmin_flatten)\n",
    "sorted_SE_maxprod = np.sort(SE_maxprod_flatten)\n",
    "sorted_SE_sumrate = np.sort(SE_sumrate_flatten)\n",
    "\n",
    "cdf_SE_maxmin = np.linspace(0, 1, len(sorted_SE_maxmin))\n",
    "cdf_SE_maxprod = np.linspace(0, 1, len(sorted_SE_maxprod))\n",
    "cdf_SE_sumrate = np.linspace(0, 1, len(sorted_SE_sumrate))"
   ],
   "metadata": {
    "collapsed": false,
    "is_executing": true
   },
   "id": "54018e6673d67e9c"
  },
  {
   "cell_type": "code",
   "execution_count": null,
   "outputs": [],
   "source": [
    "# Plotting\n",
    "plt.figure(figsize=(10, 6))\n",
    "# plt.plot(sorted_cf_SE_SGD_256, cdf_SE_SGD_256_pred, label='SE DRL(SAC_SGD [128, 256, 128]) pred', linewidth=2, linestyle='--', color='white')\n",
    "plt.plot(sorted_cf_SE_Adam, cdf_SE_Adam_pred, label='SE DRL(SAC_Adam [128, 256, 128]) pred', linewidth=2, linestyle=':', color='yellow')\n",
    "plt.plot(sorted_cf_SE_Adam, cdf_SE_Adam_pred, label='SE DRL(SAC_Adam [256, 256]) pred', linewidth=2, color='blue')\n",
    "plt.plot(sorted_SE_maxmin, cdf_SE_maxmin, label='SE Max-Min', linewidth=1)\n",
    "plt.plot(sorted_SE_maxprod, cdf_SE_maxprod, label='SE Max-Product', linewidth=1)\n",
    "plt.plot(sorted_SE_sumrate, cdf_SE_sumrate, label='SE Sum-Rate', linewidth=1)\n",
    "\n",
    "plt.xlabel('Spectral Efficiency (SE)')\n",
    "plt.ylabel('Cumulative Distribution Function (CDF)')\n",
    "plt.title('CDF of Spectral Efficiencies')\n",
    "plt.legend()"
   ],
   "metadata": {
    "collapsed": false,
    "is_executing": true
   },
   "id": "e3d6987fc19614aa"
  },
  {
   "cell_type": "code",
   "execution_count": null,
   "outputs": [],
   "source": [],
   "metadata": {
    "collapsed": false,
    "is_executing": true
   },
   "id": "aa38adab079c3462"
  }
 ],
 "metadata": {
  "kernelspec": {
   "display_name": "Python 3",
   "language": "python",
   "name": "python3"
  },
  "language_info": {
   "codemirror_mode": {
    "name": "ipython",
    "version": 2
   },
   "file_extension": ".py",
   "mimetype": "text/x-python",
   "name": "python",
   "nbconvert_exporter": "python",
   "pygments_lexer": "ipython2",
   "version": "2.7.6"
  }
 },
 "nbformat": 4,
 "nbformat_minor": 5
}
