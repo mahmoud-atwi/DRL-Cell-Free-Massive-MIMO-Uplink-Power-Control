{
 "cells": [
  {
   "cell_type": "code",
   "execution_count": 1,
   "id": "initial_id",
   "metadata": {
    "collapsed": true,
    "ExecuteTime": {
     "end_time": "2024-01-01T20:24:47.085233Z",
     "start_time": "2024-01-01T20:24:44.870109Z"
    }
   },
   "outputs": [],
   "source": [
    "import pandas as pd\n",
    "\n",
    "from _utils import plot_cdf_pdf, compare_models, compare_cdfs_ks, compare_cdfs_emd, compare_cdfs_moments"
   ]
  },
  {
   "cell_type": "code",
   "outputs": [],
   "source": [
    "# # load data from csv files\n",
    "# algo_name = \"SAC\"\n",
    "# optim_name = \"SGD\"\n",
    "# reward_method = \"channel_capacity\"\n",
    "# results_dir = 'results'\n",
    "# results_folder = f'{algo_name}-{optim_name}-{reward_method}'"
   ],
   "metadata": {
    "collapsed": false,
    "ExecuteTime": {
     "end_time": "2024-01-01T20:24:47.094116Z",
     "start_time": "2024-01-01T20:24:47.085734Z"
    }
   },
   "id": "160c1ffa9ca1e6a2",
   "execution_count": 2
  },
  {
   "cell_type": "code",
   "outputs": [],
   "source": [
    "# ch_cap_data = {\n",
    "#     'model_se':     {'label': 'DRL Model [Channel Capacity]',   'data': pd.read_csv(f'{results_dir}/{results_folder}/ch_cap_results_model_se.csv',      index_col=0)},\n",
    "#     'maxmin_se':    {'label': 'Max-Min',                        'data': pd.read_csv(f'{results_dir}/{results_folder}/ch_cap_results_maxmin_se.csv',     index_col=0)},\n",
    "#     'maxprod_se':   {'label': 'Max-Product',                    'data': pd.read_csv(f'{results_dir}/{results_folder}/ch_cap_results_maxprod_se.csv',    index_col=0)},\n",
    "#     'sumrate_se':   {'label': 'Max-Sum-Rate',                   'data': pd.read_csv(f'{results_dir}/{results_folder}/ch_cap_results_sumrate_se.csv',    index_col=0)},\n",
    "# }"
   ],
   "metadata": {
    "collapsed": false,
    "ExecuteTime": {
     "end_time": "2024-01-01T20:24:47.094887Z",
     "start_time": "2024-01-01T20:24:47.087642Z"
    }
   },
   "id": "7f2b4d73025b6133",
   "execution_count": 3
  },
  {
   "cell_type": "code",
   "outputs": [],
   "source": [
    "# plot_cdf_pdf(title='Spectral Efficiencies', data=ch_cap_data, operation=None, cumulative=True, fill=True)"
   ],
   "metadata": {
    "collapsed": false,
    "ExecuteTime": {
     "end_time": "2024-01-01T20:24:47.095426Z",
     "start_time": "2024-01-01T20:24:47.090091Z"
    }
   },
   "id": "6c0c721ea60ee99d",
   "execution_count": 4
  },
  {
   "cell_type": "code",
   "outputs": [],
   "source": [
    "# # load data from csv files\n",
    "# algo_name = \"SAC\"\n",
    "# optim_name = \"SGD\"\n",
    "# reward_method = \"geo_mean_se\"\n",
    "# results_dir = 'results'\n",
    "# results_folder = f'{algo_name}-{optim_name}-{reward_method}'"
   ],
   "metadata": {
    "collapsed": false,
    "ExecuteTime": {
     "end_time": "2024-01-01T20:24:47.096420Z",
     "start_time": "2024-01-01T20:24:47.092847Z"
    }
   },
   "id": "4645b41491464c4",
   "execution_count": 5
  },
  {
   "cell_type": "code",
   "outputs": [],
   "source": [
    "# geo_mean_data = {\n",
    "#     'model_se':     {'label': 'DRL Model [Geo-Mean-SE]',    'data': pd.read_csv(f'{results_dir}/{results_folder}/geo_mean_results_model_se.csv',    index_col=0)},\n",
    "#     'maxmin_se':    {'label': 'Max-Min',                    'data': pd.read_csv(f'{results_dir}/{results_folder}/geo_mean_results_maxmin_se.csv',   index_col=0)},\n",
    "#     'maxprod_se':   {'label': 'Max-Product',                'data': pd.read_csv(f'{results_dir}/{results_folder}/geo_mean_results_maxprod_se.csv',  index_col=0)},\n",
    "#     'sumrate_se':   {'label': 'Max-Sum-Rate',               'data': pd.read_csv(f'{results_dir}/{results_folder}/geo_mean_results_sumrate_se.csv',  index_col=0)},\n",
    "# }"
   ],
   "metadata": {
    "collapsed": false,
    "ExecuteTime": {
     "end_time": "2024-01-01T20:24:47.097863Z",
     "start_time": "2024-01-01T20:24:47.095236Z"
    }
   },
   "id": "f42545c766ae57c9",
   "execution_count": 6
  },
  {
   "cell_type": "code",
   "outputs": [],
   "source": [
    "# plot_cdf_pdf(title='Spectral Efficiencies', data=geo_mean_data, operation=None, cumulative=True, fill=True)"
   ],
   "metadata": {
    "collapsed": false,
    "ExecuteTime": {
     "end_time": "2024-01-01T20:24:47.099557Z",
     "start_time": "2024-01-01T20:24:47.097165Z"
    }
   },
   "id": "105cc96da2a6e16e",
   "execution_count": 7
  },
  {
   "cell_type": "code",
   "outputs": [],
   "source": [
    "# # load data from csv files\n",
    "# algo_name = \"SAC\"\n",
    "# optim_name = \"SGD\"\n",
    "# reward_method = \"mean_se\"\n",
    "# results_dir = 'results'\n",
    "# results_folder = f'{algo_name}-{optim_name}-{reward_method}'"
   ],
   "metadata": {
    "collapsed": false,
    "ExecuteTime": {
     "end_time": "2024-01-01T20:24:47.108100Z",
     "start_time": "2024-01-01T20:24:47.099163Z"
    }
   },
   "id": "605c307f27de870",
   "execution_count": 8
  },
  {
   "cell_type": "code",
   "outputs": [],
   "source": [
    "# mean_data = {\n",
    "#     'model_se':     {'label': 'DRL Model [Mean-SE]',    'data': pd.read_csv(f'{results_dir}/{results_folder}/mean_results_model_se.csv',    index_col=0)},\n",
    "#     'maxmin_se':    {'label': 'Max-Min',                'data': pd.read_csv(f'{results_dir}/{results_folder}/mean_results_maxmin_se.csv',   index_col=0)},\n",
    "#     'maxprod_se':   {'label': 'Max-Product',            'data': pd.read_csv(f'{results_dir}/{results_folder}/mean_results_maxprod_se.csv',  index_col=0)},\n",
    "#     'sumrate_se':   {'label': 'Max-Sum-Rate',           'data': pd.read_csv(f'{results_dir}/{results_folder}/mean_results_sumrate_se.csv',  index_col=0)},\n",
    "# }"
   ],
   "metadata": {
    "collapsed": false,
    "ExecuteTime": {
     "end_time": "2024-01-01T20:24:47.108844Z",
     "start_time": "2024-01-01T20:24:47.101218Z"
    }
   },
   "id": "f292f0b36e5f78f4",
   "execution_count": 9
  },
  {
   "cell_type": "code",
   "outputs": [],
   "source": [
    "# plot_cdf_pdf(title='Spectral Efficiencies', data=mean_data, operation=None, cumulative=True, fill=True)"
   ],
   "metadata": {
    "collapsed": false,
    "ExecuteTime": {
     "end_time": "2024-01-01T20:24:47.109334Z",
     "start_time": "2024-01-01T20:24:47.103009Z"
    }
   },
   "id": "281a7a893995c367",
   "execution_count": 10
  },
  {
   "cell_type": "code",
   "outputs": [],
   "source": [
    "# algo_name = \"SAC\"\n",
    "# optim_name = \"SGD\"\n",
    "# reward_method = \"min_se\"\n",
    "# results_dir = 'results'\n",
    "# results_folder = f'{algo_name}-{optim_name}-{reward_method}'"
   ],
   "metadata": {
    "collapsed": false,
    "ExecuteTime": {
     "end_time": "2024-01-01T20:24:47.116077Z",
     "start_time": "2024-01-01T20:24:47.104982Z"
    }
   },
   "id": "ae427a65520b5bbe",
   "execution_count": 11
  },
  {
   "cell_type": "code",
   "outputs": [],
   "source": [
    "# min_data = {\n",
    "#     'model_se':     {'label': 'DRL Model [Min-SE]',     'data': pd.read_csv(f'{results_dir}/{results_folder}/min_results_model_se.csv',     index_col=0)},\n",
    "#     'maxmin_se':    {'label': 'Max-Min',                'data': pd.read_csv(f'{results_dir}/{results_folder}/min_results_maxmin_se.csv',    index_col=0)},\n",
    "#     'maxprod_se':   {'label': 'Max-Product',            'data': pd.read_csv(f'{results_dir}/{results_folder}/min_results_maxprod_se.csv',   index_col=0)},\n",
    "#     'sumrate_se':   {'label': 'Max-Sum-Rate',           'data': pd.read_csv(f'{results_dir}/{results_folder}/min_results_sumrate_se.csv',   index_col=0)},\n",
    "# }"
   ],
   "metadata": {
    "collapsed": false,
    "ExecuteTime": {
     "end_time": "2024-01-01T20:24:47.117206Z",
     "start_time": "2024-01-01T20:24:47.107173Z"
    }
   },
   "id": "54225b5b4d4f5574",
   "execution_count": 12
  },
  {
   "cell_type": "code",
   "outputs": [],
   "source": [
    "# plot_cdf_pdf(title='Spectral Efficiencies', data=min_data, operation=None, cumulative=True, fill=True)"
   ],
   "metadata": {
    "collapsed": false,
    "ExecuteTime": {
     "end_time": "2024-01-01T20:24:47.118594Z",
     "start_time": "2024-01-01T20:24:47.109305Z"
    }
   },
   "id": "4df513cfd2aed8c",
   "execution_count": 13
  },
  {
   "cell_type": "code",
   "outputs": [],
   "source": [
    "# algo_name = \"SAC\"\n",
    "# optim_name = \"SGD\"\n",
    "# reward_method = \"sum_se\"\n",
    "# results_dir = 'results'\n",
    "# results_folder = f'{algo_name}-{optim_name}-{reward_method}'"
   ],
   "metadata": {
    "collapsed": false,
    "ExecuteTime": {
     "end_time": "2024-01-01T20:24:47.119048Z",
     "start_time": "2024-01-01T20:24:47.112941Z"
    }
   },
   "id": "a5f5b8856ccffc9c",
   "execution_count": 14
  },
  {
   "cell_type": "code",
   "outputs": [],
   "source": [
    "# sum_data = {\n",
    "#     'model_se':     {'label': 'DRL Model [Sum-SE]',     'data': pd.read_csv(f'{results_dir}/{results_folder}/sum_results_model_se.csv',     index_col=0)},\n",
    "#     'maxmin_se':    {'label': 'Max-Min',                'data': pd.read_csv(f'{results_dir}/{results_folder}/sum_results_maxmin_se.csv',    index_col=0)},\n",
    "#     'maxprod_se':   {'label': 'Max-Product',            'data': pd.read_csv(f'{results_dir}/{results_folder}/sum_results_maxprod_se.csv',   index_col=0)},\n",
    "#     'sumrate_se':   {'label': 'Max-Sum-Rate',           'data': pd.read_csv(f'{results_dir}/{results_folder}/sum_results_sumrate_se.csv',   index_col=0)},\n",
    "# }"
   ],
   "metadata": {
    "collapsed": false,
    "ExecuteTime": {
     "end_time": "2024-01-01T20:24:47.119901Z",
     "start_time": "2024-01-01T20:24:47.114690Z"
    }
   },
   "id": "6d8709f3b9c1851a",
   "execution_count": 15
  },
  {
   "cell_type": "code",
   "outputs": [],
   "source": [
    "# plot_cdf_pdf(title='Spectral Efficiencies', data=sum_data, operation=None, cumulative=True, fill=True)"
   ],
   "metadata": {
    "collapsed": false,
    "ExecuteTime": {
     "end_time": "2024-01-01T20:24:47.120860Z",
     "start_time": "2024-01-01T20:24:47.116520Z"
    }
   },
   "id": "9fb3be266b0eef1d",
   "execution_count": 16
  },
  {
   "cell_type": "code",
   "outputs": [],
   "source": [
    "# data = {\n",
    "#     'model_ch_se':      {'label': 'DRL Model [Channel Capacity]',   'data': pd.read_csv(f'{results_dir}/SAC-SGD-channel_capacity/ch_cap_results_model_se.csv',  index_col=0)},\n",
    "#     'model_geo_se':     {'label': 'DRL Model [Geo-Mean-SE]',        'data': pd.read_csv(f'{results_dir}/SAC-SGD-geo_mean_se/geo_mean_results_model_se.csv',     index_col=0)},\n",
    "#     'model_mean_se':    {'label': 'DRL Model [Mean-SE]',            'data': pd.read_csv(f'{results_dir}/SAC-SGD-mean_se/mean_results_model_se.csv',             index_col=0)},\n",
    "#     'model_min_se':     {'label': 'DRL Model [Min-SE]',             'data': pd.read_csv(f'{results_dir}/SAC-SGD-min_se/min_results_model_se.csv',               index_col=0)},\n",
    "#     'model_sum_se':     {'label': 'DRL Model [Sum-SE]',             'data': pd.read_csv(f'{results_dir}/SAC-SGD-sum_se/sum_results_model_se.csv',               index_col=0)},\n",
    "# }"
   ],
   "metadata": {
    "collapsed": false,
    "ExecuteTime": {
     "end_time": "2024-01-01T20:24:47.132062Z",
     "start_time": "2024-01-01T20:24:47.118459Z"
    }
   },
   "id": "c7f1af2ef31790",
   "execution_count": 17
  },
  {
   "cell_type": "code",
   "outputs": [],
   "source": [
    "# plot_cdf_pdf(title='Spectral Efficiencies', data=data, operation=None, cumulative=True, fill=True)"
   ],
   "metadata": {
    "collapsed": false,
    "ExecuteTime": {
     "end_time": "2024-01-01T20:24:47.133513Z",
     "start_time": "2024-01-01T20:24:47.120071Z"
    }
   },
   "id": "5fffa328cdb2b7ee",
   "execution_count": 18
  },
  {
   "cell_type": "code",
   "outputs": [],
   "source": [
    "# max_min_data = {\n",
    "#     'ch_cap':   {'label': 'Max-Min [Channel Capacity]', 'data': pd.read_csv(f'{results_dir}/SAC-SGD-channel_capacity/ch_cap_results_maxmin_se.csv',     index_col=0)},\n",
    "#     'geo_mean': {'label': 'Max-Min [geo mean]',         'data': pd.read_csv(f'{results_dir}/SAC-SGD-geo_mean_se/geo_mean_results_maxmin_se.csv',        index_col=0)},\n",
    "#     'mean':     {'label': 'Max-Min [mean]',             'data': pd.read_csv(f'{results_dir}/SAC-SGD-mean_se/mean_results_maxmin_se.csv',                index_col=0)},\n",
    "#     'min':      {'label': 'Max-Min [min]',              'data': pd.read_csv(f'{results_dir}/SAC-SGD-min_se/min_results_maxmin_se.csv',                  index_col=0)},\n",
    "#     'sum':      {'label': 'Max-Min [sum]',              'data': pd.read_csv(f'{results_dir}/SAC-SGD-sum_se/sum_results_maxmin_se.csv',                  index_col=0)},\n",
    "# }"
   ],
   "metadata": {
    "collapsed": false,
    "ExecuteTime": {
     "end_time": "2024-01-01T20:24:47.133965Z",
     "start_time": "2024-01-01T20:24:47.121859Z"
    }
   },
   "id": "5cb1badfb288d4f5",
   "execution_count": 19
  },
  {
   "cell_type": "code",
   "outputs": [],
   "source": [
    "# plot_cdf_pdf(title='Spectral Efficiencies', data=max_min_data, operation=None, cumulative=True, fill=True)"
   ],
   "metadata": {
    "collapsed": false,
    "ExecuteTime": {
     "end_time": "2024-01-01T20:24:47.134402Z",
     "start_time": "2024-01-01T20:24:47.124040Z"
    }
   },
   "id": "69c0228d1449108f",
   "execution_count": 20
  },
  {
   "cell_type": "code",
   "outputs": [],
   "source": [
    "# load data from csv files\n",
    "algo_name = \"SAC\"\n",
    "optim_name = \"SGD\"\n",
    "results_dir = 'results'\n",
    "results_folder = f'{algo_name}-{optim_name}'\n",
    "\n",
    "data = {\n",
    "    'Model_ch_cap_SEs':     {'label': 'DRL Model [Channel Capacity]',   'data': pd.read_csv(f'{results_dir}/{results_folder}/Model_ch_cap_SEs.csv',     index_col=0), 'color': 'green', 'linestyle': '-', 'linewidth': 2},\n",
    "    'Model_geo_mean_SEs':   {'label': 'DRL Model [Geo Mean]',           'data': pd.read_csv(f'{results_dir}/{results_folder}/Model_geo_mean_SEs.csv',   index_col=0), 'color': 'black', 'linestyle': '--', 'linewidth': 2},\n",
    "    'Model_mean_SEs':       {'label': 'DRL Model [Mean]',               'data': pd.read_csv(f'{results_dir}/{results_folder}/Model_mean_SEs.csv',       index_col=0), 'color': 'yellow', 'linestyle': '-.', 'linewidth': 2},\n",
    "    'Model_min_SEs':        {'label': 'DRL Model [Min]',                'data': pd.read_csv(f'{results_dir}/{results_folder}/Model_min_SEs.csv',        index_col=0), 'color': 'red', 'linestyle': ':', 'linewidth': 2},\n",
    "    'Model_sum_SEs':        {'label': 'DRL Model [Sum]',                'data': pd.read_csv(f'{results_dir}/{results_folder}/Model_sum_SEs.csv',        index_col=0), 'color': 'magenta', 'linestyle': '-', 'linewidth': 2},\n",
    "    'maxmin_se':            {'label': 'Max-Min',                        'data': pd.read_csv(f'{results_dir}/{results_folder}/maxmin_SEs.csv',           index_col=0), 'color': 'green', 'linestyle': '-', 'linewidth': 0.5},\n",
    "    'maxprod_se':           {'label': 'Max-Product',                    'data': pd.read_csv(f'{results_dir}/{results_folder}/maxprod_SEs.csv',          index_col=0), 'color': 'yellow', 'linestyle': '-', 'linewidth': 0.5},\n",
    "    'sumrate_se':           {'label': 'Max-Sum-Rate',                   'data': pd.read_csv(f'{results_dir}/{results_folder}/sumrate_SEs.csv',          index_col=0), 'color': 'black', 'linestyle': '-', 'linewidth': 0.5},\n",
    "}"
   ],
   "metadata": {
    "collapsed": false,
    "ExecuteTime": {
     "end_time": "2024-01-01T20:28:38.589674Z",
     "start_time": "2024-01-01T20:28:38.493037Z"
    }
   },
   "id": "a2d9be887e6de4eb",
   "execution_count": 45
  },
  {
   "cell_type": "code",
   "outputs": [
    {
     "data": {
      "text/plain": "<Figure size 1200x600 with 1 Axes>",
      "image/png": "[encoded data removed]"
     },
     "metadata": {},
     "output_type": "display_data"
    }
   ],
   "source": [
    "plot_cdf_pdf(data=data, title='Spectral Efficiencies', xlabel='Spectral Efficiency (SE)', operation=None, cumulative=True)"
   ],
   "metadata": {
    "collapsed": false,
    "ExecuteTime": {
     "end_time": "2024-01-01T20:44:01.609633Z",
     "start_time": "2024-01-01T20:44:01.261050Z"
    }
   },
   "id": "43eefd9dcac7eb35",
   "execution_count": 49
  },
  {
   "cell_type": "code",
   "outputs": [
    {
     "name": "stdout",
     "output_type": "stream",
     "text": [
      "                                           Label Average SE    Max SE  \\\n",
      "Model_ch_cap_SEs    DRL Model [Channel Capacity]   0.680671  3.073057   \n",
      "Model_geo_mean_SEs          DRL Model [Geo Mean]   0.672959  2.994444   \n",
      "Model_mean_SEs                  DRL Model [Mean]   0.680784  2.882385   \n",
      "Model_min_SEs                    DRL Model [Min]   0.681605  2.794427   \n",
      "Model_sum_SEs                    DRL Model [Sum]   0.679328  2.874017   \n",
      "maxmin_se                                Max-Min   0.476621  3.221512   \n",
      "maxprod_se                           Max-Product   0.695001  3.085127   \n",
      "sumrate_se                          Max-Sum-Rate   0.700296   2.97944   \n",
      "\n",
      "                   Standard Deviation 25th Percentile 50th Percentile  \\\n",
      "Model_ch_cap_SEs             0.443146        0.294542        0.676713   \n",
      "Model_geo_mean_SEs           0.444404        0.283037        0.665204   \n",
      "Model_mean_SEs                0.43875        0.300981        0.673731   \n",
      "Model_min_SEs                0.447723        0.293135        0.675142   \n",
      "Model_sum_SEs                0.437996        0.301227        0.669581   \n",
      "maxmin_se                    0.434737         0.14479        0.368583   \n",
      "maxprod_se                   0.469277        0.306196        0.649291   \n",
      "sumrate_se                   0.478506        0.304307        0.658159   \n",
      "\n",
      "                   75th Percentile Geometric Mean  \n",
      "Model_ch_cap_SEs           0.99228          0.472  \n",
      "Model_geo_mean_SEs        0.989377            0.0  \n",
      "Model_mean_SEs            0.989835       0.477213  \n",
      "Model_min_SEs             0.992766            0.0  \n",
      "Model_sum_SEs             0.989742            0.0  \n",
      "maxmin_se                 0.659698       0.269377  \n",
      "maxprod_se                0.985573       0.479859  \n",
      "sumrate_se                 1.00345            0.0  \n"
     ]
    }
   ],
   "source": [
    "comparison_result = compare_models(data)\n",
    "print(comparison_result)"
   ],
   "metadata": {
    "collapsed": false,
    "ExecuteTime": {
     "end_time": "2024-01-01T20:24:47.552061Z",
     "start_time": "2024-01-01T20:24:47.439630Z"
    }
   },
   "id": "9f78f743dee8ff52",
   "execution_count": 23
  },
  {
   "cell_type": "code",
   "outputs": [
    {
     "data": {
      "text/plain": "{'Best Model by KS Statistic': 'DRL Model [Min]',\n 'Best Model by P-Value': 'DRL Model [Channel Capacity]',\n 'Best Model by Area': 'DRL Model [Min]'}"
     },
     "execution_count": 24,
     "metadata": {},
     "output_type": "execute_result"
    }
   ],
   "source": [
    "compare_cdfs_ks(data)['Best Model']"
   ],
   "metadata": {
    "collapsed": false,
    "ExecuteTime": {
     "end_time": "2024-01-01T20:24:48.259488Z",
     "start_time": "2024-01-01T20:24:47.480559Z"
    }
   },
   "id": "82023d52d3c96e2",
   "execution_count": 24
  },
  {
   "cell_type": "code",
   "outputs": [
    {
     "data": {
      "text/plain": "'Rank 1: DRL Model [Min], Rank 2: DRL Model [Channel Capacity], Rank 3: DRL Model [Mean], Rank 4: DRL Model [Sum], Rank 5: DRL Model [Geo Mean], Rank 6: Max-Product, Rank 7: Max-Sum-Rate, Rank 8: Max-Min'"
     },
     "execution_count": 25,
     "metadata": {},
     "output_type": "execute_result"
    }
   ],
   "source": [
    "compare_cdfs_emd(data)['Best Model']"
   ],
   "metadata": {
    "collapsed": false,
    "ExecuteTime": {
     "end_time": "2024-01-01T20:24:48.908443Z",
     "start_time": "2024-01-01T20:24:48.255839Z"
    }
   },
   "id": "db4f7d9b1b320511",
   "execution_count": 25
  },
  {
   "cell_type": "code",
   "outputs": [
    {
     "data": {
      "text/plain": "'Rank 1: sumrate_se, Rank 2: maxprod_se, Rank 3: Model_min_SEs, Rank 4: Model_mean_SEs, Rank 5: Model_ch_cap_SEs, Rank 6: Model_sum_SEs, Rank 7: Model_geo_mean_SEs, Rank 8: maxmin_se'"
     },
     "execution_count": 26,
     "metadata": {},
     "output_type": "execute_result"
    }
   ],
   "source": [
    "compare_cdfs_moments(data)['Ranked Models']"
   ],
   "metadata": {
    "collapsed": false,
    "ExecuteTime": {
     "end_time": "2024-01-01T20:24:48.914093Z",
     "start_time": "2024-01-01T20:24:48.905060Z"
    }
   },
   "id": "ffa767b1d72c8183",
   "execution_count": 26
  }
 ],
 "metadata": {
  "kernelspec": {
   "display_name": "Python 3",
   "language": "python",
   "name": "python3"
  },
  "language_info": {
   "codemirror_mode": {
    "name": "ipython",
    "version": 2
   },
   "file_extension": ".py",
   "mimetype": "text/x-python",
   "name": "python",
   "nbconvert_exporter": "python",
   "pygments_lexer": "ipython2",
   "version": "2.7.6"
  }
 },
 "nbformat": 4,
 "nbformat_minor": 5
}
